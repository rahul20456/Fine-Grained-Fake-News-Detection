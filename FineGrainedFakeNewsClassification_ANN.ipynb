{
  "nbformat": 4,
  "nbformat_minor": 0,
  "metadata": {
    "colab": {
      "provenance": []
    },
    "kernelspec": {
      "name": "python3",
      "display_name": "Python 3"
    },
    "language_info": {
      "name": "python"
    },
    "accelerator": "GPU",
    "gpuClass": "standard"
  },
  "cells": [
    {
      "cell_type": "markdown",
      "source": [
        "# Data Preprocessing"
      ],
      "metadata": {
        "id": "ozQHcz_78FsR"
      }
    },
    {
      "cell_type": "code",
      "execution_count": 54,
      "metadata": {
        "colab": {
          "base_uri": "https://localhost:8080/"
        },
        "id": "jq0Kx7BR6_5g",
        "outputId": "24bc2d09-1a7a-4f75-fe09-f57d90b07d1d"
      },
      "outputs": [
        {
          "output_type": "stream",
          "name": "stdout",
          "text": [
            "Looking in indexes: https://pypi.org/simple, https://us-python.pkg.dev/colab-wheels/public/simple/\n",
            "Requirement already satisfied: sentence_transformers in /usr/local/lib/python3.8/dist-packages (2.2.2)\n",
            "Requirement already satisfied: scikit-learn in /usr/local/lib/python3.8/dist-packages (from sentence_transformers) (1.0.2)\n",
            "Requirement already satisfied: transformers<5.0.0,>=4.6.0 in /usr/local/lib/python3.8/dist-packages (from sentence_transformers) (4.25.1)\n",
            "Requirement already satisfied: torchvision in /usr/local/lib/python3.8/dist-packages (from sentence_transformers) (0.13.1+cu113)\n",
            "Requirement already satisfied: huggingface-hub>=0.4.0 in /usr/local/lib/python3.8/dist-packages (from sentence_transformers) (0.11.1)\n",
            "Requirement already satisfied: sentencepiece in /usr/local/lib/python3.8/dist-packages (from sentence_transformers) (0.1.97)\n",
            "Requirement already satisfied: scipy in /usr/local/lib/python3.8/dist-packages (from sentence_transformers) (1.7.3)\n",
            "Requirement already satisfied: nltk in /usr/local/lib/python3.8/dist-packages (from sentence_transformers) (3.7)\n",
            "Requirement already satisfied: tqdm in /usr/local/lib/python3.8/dist-packages (from sentence_transformers) (4.64.1)\n",
            "Requirement already satisfied: numpy in /usr/local/lib/python3.8/dist-packages (from sentence_transformers) (1.21.6)\n",
            "Requirement already satisfied: torch>=1.6.0 in /usr/local/lib/python3.8/dist-packages (from sentence_transformers) (1.12.1+cu113)\n",
            "Requirement already satisfied: requests in /usr/local/lib/python3.8/dist-packages (from huggingface-hub>=0.4.0->sentence_transformers) (2.23.0)\n",
            "Requirement already satisfied: packaging>=20.9 in /usr/local/lib/python3.8/dist-packages (from huggingface-hub>=0.4.0->sentence_transformers) (21.3)\n",
            "Requirement already satisfied: typing-extensions>=3.7.4.3 in /usr/local/lib/python3.8/dist-packages (from huggingface-hub>=0.4.0->sentence_transformers) (4.1.1)\n",
            "Requirement already satisfied: pyyaml>=5.1 in /usr/local/lib/python3.8/dist-packages (from huggingface-hub>=0.4.0->sentence_transformers) (6.0)\n",
            "Requirement already satisfied: filelock in /usr/local/lib/python3.8/dist-packages (from huggingface-hub>=0.4.0->sentence_transformers) (3.8.0)\n",
            "Requirement already satisfied: pyparsing!=3.0.5,>=2.0.2 in /usr/local/lib/python3.8/dist-packages (from packaging>=20.9->huggingface-hub>=0.4.0->sentence_transformers) (3.0.9)\n",
            "Requirement already satisfied: tokenizers!=0.11.3,<0.14,>=0.11.1 in /usr/local/lib/python3.8/dist-packages (from transformers<5.0.0,>=4.6.0->sentence_transformers) (0.13.2)\n",
            "Requirement already satisfied: regex!=2019.12.17 in /usr/local/lib/python3.8/dist-packages (from transformers<5.0.0,>=4.6.0->sentence_transformers) (2022.6.2)\n",
            "Requirement already satisfied: joblib in /usr/local/lib/python3.8/dist-packages (from nltk->sentence_transformers) (1.2.0)\n",
            "Requirement already satisfied: click in /usr/local/lib/python3.8/dist-packages (from nltk->sentence_transformers) (7.1.2)\n",
            "Requirement already satisfied: certifi>=2017.4.17 in /usr/local/lib/python3.8/dist-packages (from requests->huggingface-hub>=0.4.0->sentence_transformers) (2022.9.24)\n",
            "Requirement already satisfied: idna<3,>=2.5 in /usr/local/lib/python3.8/dist-packages (from requests->huggingface-hub>=0.4.0->sentence_transformers) (2.10)\n",
            "Requirement already satisfied: chardet<4,>=3.0.2 in /usr/local/lib/python3.8/dist-packages (from requests->huggingface-hub>=0.4.0->sentence_transformers) (3.0.4)\n",
            "Requirement already satisfied: urllib3!=1.25.0,!=1.25.1,<1.26,>=1.21.1 in /usr/local/lib/python3.8/dist-packages (from requests->huggingface-hub>=0.4.0->sentence_transformers) (1.24.3)\n",
            "Requirement already satisfied: threadpoolctl>=2.0.0 in /usr/local/lib/python3.8/dist-packages (from scikit-learn->sentence_transformers) (3.1.0)\n",
            "Requirement already satisfied: pillow!=8.3.*,>=5.3.0 in /usr/local/lib/python3.8/dist-packages (from torchvision->sentence_transformers) (7.1.2)\n"
          ]
        },
        {
          "output_type": "stream",
          "name": "stderr",
          "text": [
            "[nltk_data] Downloading package punkt to /root/nltk_data...\n",
            "[nltk_data]   Package punkt is already up-to-date!\n"
          ]
        }
      ],
      "source": [
        "# Importing Libraries\n",
        "!pip install sentence_transformers\n",
        "import pandas as pd\n",
        "import numpy as np\n",
        "import nltk\n",
        "nltk.download('punkt')\n",
        "from sklearn.model_selection import train_test_split\n",
        "from sklearn.metrics import classification_report\n",
        "from sentence_transformers import SentenceTransformer\n",
        "import tensorflow as tf"
      ]
    },
    {
      "cell_type": "code",
      "source": [
        "# Importing Data\n",
        "df_train = pd.read_csv(\"/content/F3_FineGrained_Fake_News_Detection_train.csv\")\n",
        "x_train = df_train[\"statement\"].values\n",
        "df_test = pd.read_csv(\"/content/F3_FineGrained_Fake_News_Detection_test.csv\")\n",
        "x_test = df_test[\"statement\"].values\n",
        "label_map={'mostly-true':4,'barely-true':2,'half-true':3,'false':1, 'true':5,'pants-fire':0}\n",
        "y = df_train[\"label\"].values\n",
        "y_train = []\n",
        "for i in range(len(y)):\n",
        "    y_train.append(label_map[y[i]])\n",
        "y_train = np.array(y_train)"
      ],
      "metadata": {
        "id": "5enEwZlu8Hpa"
      },
      "execution_count": 55,
      "outputs": []
    },
    {
      "cell_type": "code",
      "source": [
        "# Data Cleaning\n",
        "def lowercasing(statement):\n",
        "  s2 = []\n",
        "  for k in statement:\n",
        "    s2.append(k.lower())\n",
        "  \n",
        "  return s2\n",
        "\n",
        "def stemming(statement):\n",
        "  s2 = []\n",
        "  ps = nltk.stem.PorterStemmer()\n",
        "  for k in statement:\n",
        "    tokens = nltk.word_tokenize(k)\n",
        "    t2 = []\n",
        "    for word in tokens:\n",
        "      word = ps.stem(word)\n",
        "      t2.append(word)\n",
        "    t2 = \" \".join(t2)\n",
        "    s2.append(t2)\n",
        "  return s2\n",
        "\n",
        "x_train = lowercasing(x_train)\n",
        "x_train = stemming(x_train)\n",
        "x_test = lowercasing(x_test)\n",
        "x_test = stemming(x_test)"
      ],
      "metadata": {
        "id": "TaAy6RPO8Pby"
      },
      "execution_count": 56,
      "outputs": []
    },
    {
      "cell_type": "markdown",
      "source": [
        "# Vectorization"
      ],
      "metadata": {
        "id": "Rnd6TFDl8YNK"
      }
    },
    {
      "cell_type": "code",
      "source": [
        "#Vectorization\n",
        "CONEXTUAL_MODEL_TYPE = SentenceTransformer('all-mpnet-base-v2')\n",
        "x_train1 = CONEXTUAL_MODEL_TYPE.encode(df_train[\"statement\"])\n",
        "x_train2 = CONEXTUAL_MODEL_TYPE.encode(df_train[\"subject\"])\n",
        "x_train3 = CONEXTUAL_MODEL_TYPE.encode(df_train[\"speaker\"])\n",
        "x_train4 = CONEXTUAL_MODEL_TYPE.encode(df_train[\"party affiliation\"])\n",
        "x_train = np.concatenate((x_train1, x_train2, x_train3, x_train4),axis=1)\n",
        "\n",
        "x_test1 = CONEXTUAL_MODEL_TYPE.encode(df_test[\"statement\"])\n",
        "x_test2 = CONEXTUAL_MODEL_TYPE.encode(df_test[\"subject\"])\n",
        "x_test3 = CONEXTUAL_MODEL_TYPE.encode(df_test[\"speaker\"])\n",
        "x_test4 = CONEXTUAL_MODEL_TYPE.encode(df_test[\"party affiliation\"])\n",
        "x_test = np.concatenate((x_test1, x_test2, x_test3, x_test4),axis=1)"
      ],
      "metadata": {
        "id": "O7Mnew7z8Q8C"
      },
      "execution_count": 57,
      "outputs": []
    },
    {
      "cell_type": "code",
      "source": [
        "#Train Test Split\n",
        "x_train, x_val, y_train, y_val = train_test_split(x_train, y_train, test_size=0.1, random_state=42)\n",
        "print(x_train.shape, y_train.shape)\n",
        "print(x_val.shape, y_val.shape)\n",
        "print(x_test.shape)"
      ],
      "metadata": {
        "colab": {
          "base_uri": "https://localhost:8080/"
        },
        "id": "HuPkAzWW8Tzb",
        "outputId": "a1689b26-b815-481f-cf13-8ef1f3932ed6"
      },
      "execution_count": 51,
      "outputs": [
        {
          "output_type": "stream",
          "name": "stdout",
          "text": [
            "(5805, 3072) (5805,)\n",
            "(646, 3072) (646,)\n",
            "(3072, 3072)\n"
          ]
        }
      ]
    },
    {
      "cell_type": "markdown",
      "source": [
        "# Model"
      ],
      "metadata": {
        "id": "IyLLxrHR8lFf"
      }
    },
    {
      "cell_type": "code",
      "source": [
        "model = tf.keras.models.Sequential([tf.keras.layers.Dense(512, activation=tf.nn.relu), \n",
        "                                    tf.keras.layers.Dropout(0.2),\n",
        "                                    tf.keras.layers.Dense(64, activation=tf.nn.relu),\n",
        "                                    tf.keras.layers.Dropout(0.2),\n",
        "                                    tf.keras.layers.Dense(6, activation=tf.nn.softmax)])"
      ],
      "metadata": {
        "id": "Dr-8JZB-8aOG"
      },
      "execution_count": 58,
      "outputs": []
    },
    {
      "cell_type": "code",
      "source": [
        "model.compile(loss='sparse_categorical_crossentropy',optimizer='adam',metrics=['accuracy'])\n",
        "model.fit(x_train, y_train, epochs=20)"
      ],
      "metadata": {
        "colab": {
          "base_uri": "https://localhost:8080/"
        },
        "id": "PKKopmdp9bwP",
        "outputId": "3732c7e0-625e-404a-d1f2-0ceadb5cc439"
      },
      "execution_count": 59,
      "outputs": [
        {
          "output_type": "stream",
          "name": "stdout",
          "text": [
            "Epoch 1/20\n",
            "224/224 [==============================] - 1s 3ms/step - loss: 1.7294 - accuracy: 0.2370\n",
            "Epoch 2/20\n",
            "224/224 [==============================] - 1s 3ms/step - loss: 1.6692 - accuracy: 0.2747\n",
            "Epoch 3/20\n",
            "224/224 [==============================] - 1s 3ms/step - loss: 1.6323 - accuracy: 0.3001\n",
            "Epoch 4/20\n",
            "224/224 [==============================] - 1s 3ms/step - loss: 1.6043 - accuracy: 0.3206\n",
            "Epoch 5/20\n",
            "224/224 [==============================] - 1s 3ms/step - loss: 1.5569 - accuracy: 0.3474\n",
            "Epoch 6/20\n",
            "224/224 [==============================] - 1s 3ms/step - loss: 1.5089 - accuracy: 0.3686\n",
            "Epoch 7/20\n",
            "224/224 [==============================] - 1s 3ms/step - loss: 1.4480 - accuracy: 0.4090\n",
            "Epoch 8/20\n",
            "224/224 [==============================] - 1s 3ms/step - loss: 1.3852 - accuracy: 0.4343\n",
            "Epoch 9/20\n",
            "224/224 [==============================] - 1s 3ms/step - loss: 1.3042 - accuracy: 0.4750\n",
            "Epoch 10/20\n",
            "224/224 [==============================] - 1s 3ms/step - loss: 1.2091 - accuracy: 0.5226\n",
            "Epoch 11/20\n",
            "224/224 [==============================] - 1s 3ms/step - loss: 1.1042 - accuracy: 0.5709\n",
            "Epoch 12/20\n",
            "224/224 [==============================] - 1s 3ms/step - loss: 1.0008 - accuracy: 0.6215\n",
            "Epoch 13/20\n",
            "224/224 [==============================] - 1s 3ms/step - loss: 0.9052 - accuracy: 0.6532\n",
            "Epoch 14/20\n",
            "224/224 [==============================] - 1s 3ms/step - loss: 0.8204 - accuracy: 0.6890\n",
            "Epoch 15/20\n",
            "224/224 [==============================] - 1s 3ms/step - loss: 0.7185 - accuracy: 0.7284\n",
            "Epoch 16/20\n",
            "224/224 [==============================] - 1s 3ms/step - loss: 0.6257 - accuracy: 0.7746\n",
            "Epoch 17/20\n",
            "224/224 [==============================] - 1s 3ms/step - loss: 0.5372 - accuracy: 0.8076\n",
            "Epoch 18/20\n",
            "224/224 [==============================] - 1s 3ms/step - loss: 0.4952 - accuracy: 0.8259\n",
            "Epoch 19/20\n",
            "224/224 [==============================] - 1s 3ms/step - loss: 0.4447 - accuracy: 0.8410\n",
            "Epoch 20/20\n",
            "224/224 [==============================] - 1s 3ms/step - loss: 0.4032 - accuracy: 0.8566\n"
          ]
        },
        {
          "output_type": "execute_result",
          "data": {
            "text/plain": [
              "<keras.callbacks.History at 0x7fd230067a00>"
            ]
          },
          "metadata": {},
          "execution_count": 59
        }
      ]
    },
    {
      "cell_type": "markdown",
      "source": [
        "# Evaluation"
      ],
      "metadata": {
        "id": "jfxnMxtj9r2K"
      }
    },
    {
      "cell_type": "code",
      "source": [
        "y_pred = tf.argmax(model.predict(x_val), axis=1).numpy()\n",
        "print(classification_report(y_val, y_pred))"
      ],
      "metadata": {
        "colab": {
          "base_uri": "https://localhost:8080/"
        },
        "id": "jmRIgkwl9ixJ",
        "outputId": "79e449c2-2b60-49d9-c720-1defb8fa7812"
      },
      "execution_count": 43,
      "outputs": [
        {
          "output_type": "stream",
          "name": "stdout",
          "text": [
            "23/23 [==============================] - 0s 2ms/step\n",
            "              precision    recall  f1-score   support\n",
            "\n",
            "           0       0.42      0.25      0.32        63\n",
            "           1       0.34      0.32      0.33       135\n",
            "           2       0.21      0.28      0.24       103\n",
            "           3       0.30      0.33      0.31       160\n",
            "           4       0.18      0.14      0.16       136\n",
            "           5       0.28      0.31      0.29       120\n",
            "\n",
            "    accuracy                           0.27       717\n",
            "   macro avg       0.29      0.27      0.28       717\n",
            "weighted avg       0.28      0.27      0.27       717\n",
            "\n"
          ]
        }
      ]
    },
    {
      "cell_type": "code",
      "source": [
        "y_test_pred = tf.argmax(model.predict(x_test), axis=1).numpy()\n",
        "df_test[\"label\"] = y_test_pred\n",
        "final_res = df_test[['label', 'id']]\n",
        "final_res.head()"
      ],
      "metadata": {
        "colab": {
          "base_uri": "https://localhost:8080/",
          "height": 223
        },
        "id": "wPEkW6D-9wwN",
        "outputId": "8d519c14-b9f0-4bd8-8463-61c00331eb2c"
      },
      "execution_count": 60,
      "outputs": [
        {
          "output_type": "stream",
          "name": "stdout",
          "text": [
            "96/96 [==============================] - 0s 2ms/step\n"
          ]
        },
        {
          "output_type": "execute_result",
          "data": {
            "text/plain": [
              "   label  id\n",
              "0      3   0\n",
              "1      3   1\n",
              "2      2   2\n",
              "3      1   3\n",
              "4      4   4"
            ],
            "text/html": [
              "\n",
              "  <div id=\"df-7aed1ac0-3205-4a63-a971-9c12d5a2debd\">\n",
              "    <div class=\"colab-df-container\">\n",
              "      <div>\n",
              "<style scoped>\n",
              "    .dataframe tbody tr th:only-of-type {\n",
              "        vertical-align: middle;\n",
              "    }\n",
              "\n",
              "    .dataframe tbody tr th {\n",
              "        vertical-align: top;\n",
              "    }\n",
              "\n",
              "    .dataframe thead th {\n",
              "        text-align: right;\n",
              "    }\n",
              "</style>\n",
              "<table border=\"1\" class=\"dataframe\">\n",
              "  <thead>\n",
              "    <tr style=\"text-align: right;\">\n",
              "      <th></th>\n",
              "      <th>label</th>\n",
              "      <th>id</th>\n",
              "    </tr>\n",
              "  </thead>\n",
              "  <tbody>\n",
              "    <tr>\n",
              "      <th>0</th>\n",
              "      <td>3</td>\n",
              "      <td>0</td>\n",
              "    </tr>\n",
              "    <tr>\n",
              "      <th>1</th>\n",
              "      <td>3</td>\n",
              "      <td>1</td>\n",
              "    </tr>\n",
              "    <tr>\n",
              "      <th>2</th>\n",
              "      <td>2</td>\n",
              "      <td>2</td>\n",
              "    </tr>\n",
              "    <tr>\n",
              "      <th>3</th>\n",
              "      <td>1</td>\n",
              "      <td>3</td>\n",
              "    </tr>\n",
              "    <tr>\n",
              "      <th>4</th>\n",
              "      <td>4</td>\n",
              "      <td>4</td>\n",
              "    </tr>\n",
              "  </tbody>\n",
              "</table>\n",
              "</div>\n",
              "      <button class=\"colab-df-convert\" onclick=\"convertToInteractive('df-7aed1ac0-3205-4a63-a971-9c12d5a2debd')\"\n",
              "              title=\"Convert this dataframe to an interactive table.\"\n",
              "              style=\"display:none;\">\n",
              "        \n",
              "  <svg xmlns=\"http://www.w3.org/2000/svg\" height=\"24px\"viewBox=\"0 0 24 24\"\n",
              "       width=\"24px\">\n",
              "    <path d=\"M0 0h24v24H0V0z\" fill=\"none\"/>\n",
              "    <path d=\"M18.56 5.44l.94 2.06.94-2.06 2.06-.94-2.06-.94-.94-2.06-.94 2.06-2.06.94zm-11 1L8.5 8.5l.94-2.06 2.06-.94-2.06-.94L8.5 2.5l-.94 2.06-2.06.94zm10 10l.94 2.06.94-2.06 2.06-.94-2.06-.94-.94-2.06-.94 2.06-2.06.94z\"/><path d=\"M17.41 7.96l-1.37-1.37c-.4-.4-.92-.59-1.43-.59-.52 0-1.04.2-1.43.59L10.3 9.45l-7.72 7.72c-.78.78-.78 2.05 0 2.83L4 21.41c.39.39.9.59 1.41.59.51 0 1.02-.2 1.41-.59l7.78-7.78 2.81-2.81c.8-.78.8-2.07 0-2.86zM5.41 20L4 18.59l7.72-7.72 1.47 1.35L5.41 20z\"/>\n",
              "  </svg>\n",
              "      </button>\n",
              "      \n",
              "  <style>\n",
              "    .colab-df-container {\n",
              "      display:flex;\n",
              "      flex-wrap:wrap;\n",
              "      gap: 12px;\n",
              "    }\n",
              "\n",
              "    .colab-df-convert {\n",
              "      background-color: #E8F0FE;\n",
              "      border: none;\n",
              "      border-radius: 50%;\n",
              "      cursor: pointer;\n",
              "      display: none;\n",
              "      fill: #1967D2;\n",
              "      height: 32px;\n",
              "      padding: 0 0 0 0;\n",
              "      width: 32px;\n",
              "    }\n",
              "\n",
              "    .colab-df-convert:hover {\n",
              "      background-color: #E2EBFA;\n",
              "      box-shadow: 0px 1px 2px rgba(60, 64, 67, 0.3), 0px 1px 3px 1px rgba(60, 64, 67, 0.15);\n",
              "      fill: #174EA6;\n",
              "    }\n",
              "\n",
              "    [theme=dark] .colab-df-convert {\n",
              "      background-color: #3B4455;\n",
              "      fill: #D2E3FC;\n",
              "    }\n",
              "\n",
              "    [theme=dark] .colab-df-convert:hover {\n",
              "      background-color: #434B5C;\n",
              "      box-shadow: 0px 1px 3px 1px rgba(0, 0, 0, 0.15);\n",
              "      filter: drop-shadow(0px 1px 2px rgba(0, 0, 0, 0.3));\n",
              "      fill: #FFFFFF;\n",
              "    }\n",
              "  </style>\n",
              "\n",
              "      <script>\n",
              "        const buttonEl =\n",
              "          document.querySelector('#df-7aed1ac0-3205-4a63-a971-9c12d5a2debd button.colab-df-convert');\n",
              "        buttonEl.style.display =\n",
              "          google.colab.kernel.accessAllowed ? 'block' : 'none';\n",
              "\n",
              "        async function convertToInteractive(key) {\n",
              "          const element = document.querySelector('#df-7aed1ac0-3205-4a63-a971-9c12d5a2debd');\n",
              "          const dataTable =\n",
              "            await google.colab.kernel.invokeFunction('convertToInteractive',\n",
              "                                                     [key], {});\n",
              "          if (!dataTable) return;\n",
              "\n",
              "          const docLinkHtml = 'Like what you see? Visit the ' +\n",
              "            '<a target=\"_blank\" href=https://colab.research.google.com/notebooks/data_table.ipynb>data table notebook</a>'\n",
              "            + ' to learn more about interactive tables.';\n",
              "          element.innerHTML = '';\n",
              "          dataTable['output_type'] = 'display_data';\n",
              "          await google.colab.output.renderOutput(dataTable, element);\n",
              "          const docLink = document.createElement('div');\n",
              "          docLink.innerHTML = docLinkHtml;\n",
              "          element.appendChild(docLink);\n",
              "        }\n",
              "      </script>\n",
              "    </div>\n",
              "  </div>\n",
              "  "
            ]
          },
          "metadata": {},
          "execution_count": 60
        }
      ]
    },
    {
      "cell_type": "code",
      "source": [
        "final_res.to_csv(\"F3.csv\", index=False)"
      ],
      "metadata": {
        "id": "pqyK12h6EJlp"
      },
      "execution_count": 61,
      "outputs": []
    },
    {
      "cell_type": "code",
      "source": [],
      "metadata": {
        "id": "yZo2IQ-GEwgu"
      },
      "execution_count": null,
      "outputs": []
    }
  ]
}