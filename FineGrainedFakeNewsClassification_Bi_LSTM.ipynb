{
  "nbformat": 4,
  "nbformat_minor": 0,
  "metadata": {
    "colab": {
      "provenance": []
    },
    "kernelspec": {
      "name": "python3",
      "display_name": "Python 3"
    },
    "language_info": {
      "name": "python"
    },
    "gpuClass": "standard",
    "accelerator": "GPU"
  },
  "cells": [
    {
      "cell_type": "markdown",
      "source": [
        "# Data Preprocessing"
      ],
      "metadata": {
        "id": "IgPTteyx21Qi"
      }
    },
    {
      "cell_type": "code",
      "execution_count": 1,
      "metadata": {
        "colab": {
          "base_uri": "https://localhost:8080/"
        },
        "id": "N7iGk0492OIb",
        "outputId": "dfc3f7c8-c8dd-4883-99b6-4d64d0dee086"
      },
      "outputs": [
        {
          "output_type": "stream",
          "name": "stdout",
          "text": [
            "Looking in indexes: https://pypi.org/simple, https://us-python.pkg.dev/colab-wheels/public/simple/\n",
            "Requirement already satisfied: tensorflow in /usr/local/lib/python3.8/dist-packages (2.9.2)\n",
            "Requirement already satisfied: libclang>=13.0.0 in /usr/local/lib/python3.8/dist-packages (from tensorflow) (14.0.6)\n",
            "Requirement already satisfied: tensorflow-estimator<2.10.0,>=2.9.0rc0 in /usr/local/lib/python3.8/dist-packages (from tensorflow) (2.9.0)\n",
            "Requirement already satisfied: google-pasta>=0.1.1 in /usr/local/lib/python3.8/dist-packages (from tensorflow) (0.2.0)\n",
            "Requirement already satisfied: h5py>=2.9.0 in /usr/local/lib/python3.8/dist-packages (from tensorflow) (3.1.0)\n",
            "Requirement already satisfied: keras-preprocessing>=1.1.1 in /usr/local/lib/python3.8/dist-packages (from tensorflow) (1.1.2)\n",
            "Requirement already satisfied: wrapt>=1.11.0 in /usr/local/lib/python3.8/dist-packages (from tensorflow) (1.14.1)\n",
            "Requirement already satisfied: packaging in /usr/local/lib/python3.8/dist-packages (from tensorflow) (21.3)\n",
            "Requirement already satisfied: setuptools in /usr/local/lib/python3.8/dist-packages (from tensorflow) (57.4.0)\n",
            "Requirement already satisfied: six>=1.12.0 in /usr/local/lib/python3.8/dist-packages (from tensorflow) (1.15.0)\n",
            "Requirement already satisfied: termcolor>=1.1.0 in /usr/local/lib/python3.8/dist-packages (from tensorflow) (2.1.1)\n",
            "Requirement already satisfied: grpcio<2.0,>=1.24.3 in /usr/local/lib/python3.8/dist-packages (from tensorflow) (1.50.0)\n",
            "Requirement already satisfied: tensorboard<2.10,>=2.9 in /usr/local/lib/python3.8/dist-packages (from tensorflow) (2.9.1)\n",
            "Requirement already satisfied: opt-einsum>=2.3.2 in /usr/local/lib/python3.8/dist-packages (from tensorflow) (3.3.0)\n",
            "Requirement already satisfied: astunparse>=1.6.0 in /usr/local/lib/python3.8/dist-packages (from tensorflow) (1.6.3)\n",
            "Requirement already satisfied: absl-py>=1.0.0 in /usr/local/lib/python3.8/dist-packages (from tensorflow) (1.3.0)\n",
            "Requirement already satisfied: numpy>=1.20 in /usr/local/lib/python3.8/dist-packages (from tensorflow) (1.21.6)\n",
            "Requirement already satisfied: protobuf<3.20,>=3.9.2 in /usr/local/lib/python3.8/dist-packages (from tensorflow) (3.19.6)\n",
            "Requirement already satisfied: flatbuffers<2,>=1.12 in /usr/local/lib/python3.8/dist-packages (from tensorflow) (1.12)\n",
            "Requirement already satisfied: tensorflow-io-gcs-filesystem>=0.23.1 in /usr/local/lib/python3.8/dist-packages (from tensorflow) (0.28.0)\n",
            "Requirement already satisfied: typing-extensions>=3.6.6 in /usr/local/lib/python3.8/dist-packages (from tensorflow) (4.1.1)\n",
            "Requirement already satisfied: gast<=0.4.0,>=0.2.1 in /usr/local/lib/python3.8/dist-packages (from tensorflow) (0.4.0)\n",
            "Requirement already satisfied: keras<2.10.0,>=2.9.0rc0 in /usr/local/lib/python3.8/dist-packages (from tensorflow) (2.9.0)\n",
            "Requirement already satisfied: wheel<1.0,>=0.23.0 in /usr/local/lib/python3.8/dist-packages (from astunparse>=1.6.0->tensorflow) (0.38.4)\n",
            "Requirement already satisfied: markdown>=2.6.8 in /usr/local/lib/python3.8/dist-packages (from tensorboard<2.10,>=2.9->tensorflow) (3.4.1)\n",
            "Requirement already satisfied: tensorboard-plugin-wit>=1.6.0 in /usr/local/lib/python3.8/dist-packages (from tensorboard<2.10,>=2.9->tensorflow) (1.8.1)\n",
            "Requirement already satisfied: google-auth-oauthlib<0.5,>=0.4.1 in /usr/local/lib/python3.8/dist-packages (from tensorboard<2.10,>=2.9->tensorflow) (0.4.6)\n",
            "Requirement already satisfied: tensorboard-data-server<0.7.0,>=0.6.0 in /usr/local/lib/python3.8/dist-packages (from tensorboard<2.10,>=2.9->tensorflow) (0.6.1)\n",
            "Requirement already satisfied: werkzeug>=1.0.1 in /usr/local/lib/python3.8/dist-packages (from tensorboard<2.10,>=2.9->tensorflow) (1.0.1)\n",
            "Requirement already satisfied: requests<3,>=2.21.0 in /usr/local/lib/python3.8/dist-packages (from tensorboard<2.10,>=2.9->tensorflow) (2.23.0)\n",
            "Requirement already satisfied: google-auth<3,>=1.6.3 in /usr/local/lib/python3.8/dist-packages (from tensorboard<2.10,>=2.9->tensorflow) (2.14.1)\n",
            "Requirement already satisfied: pyasn1-modules>=0.2.1 in /usr/local/lib/python3.8/dist-packages (from google-auth<3,>=1.6.3->tensorboard<2.10,>=2.9->tensorflow) (0.2.8)\n",
            "Requirement already satisfied: rsa<5,>=3.1.4 in /usr/local/lib/python3.8/dist-packages (from google-auth<3,>=1.6.3->tensorboard<2.10,>=2.9->tensorflow) (4.9)\n",
            "Requirement already satisfied: cachetools<6.0,>=2.0.0 in /usr/local/lib/python3.8/dist-packages (from google-auth<3,>=1.6.3->tensorboard<2.10,>=2.9->tensorflow) (5.2.0)\n",
            "Requirement already satisfied: requests-oauthlib>=0.7.0 in /usr/local/lib/python3.8/dist-packages (from google-auth-oauthlib<0.5,>=0.4.1->tensorboard<2.10,>=2.9->tensorflow) (1.3.1)\n",
            "Requirement already satisfied: importlib-metadata>=4.4 in /usr/local/lib/python3.8/dist-packages (from markdown>=2.6.8->tensorboard<2.10,>=2.9->tensorflow) (4.13.0)\n",
            "Requirement already satisfied: zipp>=0.5 in /usr/local/lib/python3.8/dist-packages (from importlib-metadata>=4.4->markdown>=2.6.8->tensorboard<2.10,>=2.9->tensorflow) (3.10.0)\n",
            "Requirement already satisfied: pyasn1<0.5.0,>=0.4.6 in /usr/local/lib/python3.8/dist-packages (from pyasn1-modules>=0.2.1->google-auth<3,>=1.6.3->tensorboard<2.10,>=2.9->tensorflow) (0.4.8)\n",
            "Requirement already satisfied: idna<3,>=2.5 in /usr/local/lib/python3.8/dist-packages (from requests<3,>=2.21.0->tensorboard<2.10,>=2.9->tensorflow) (2.10)\n",
            "Requirement already satisfied: chardet<4,>=3.0.2 in /usr/local/lib/python3.8/dist-packages (from requests<3,>=2.21.0->tensorboard<2.10,>=2.9->tensorflow) (3.0.4)\n",
            "Requirement already satisfied: urllib3!=1.25.0,!=1.25.1,<1.26,>=1.21.1 in /usr/local/lib/python3.8/dist-packages (from requests<3,>=2.21.0->tensorboard<2.10,>=2.9->tensorflow) (1.24.3)\n",
            "Requirement already satisfied: certifi>=2017.4.17 in /usr/local/lib/python3.8/dist-packages (from requests<3,>=2.21.0->tensorboard<2.10,>=2.9->tensorflow) (2022.9.24)\n",
            "Requirement already satisfied: oauthlib>=3.0.0 in /usr/local/lib/python3.8/dist-packages (from requests-oauthlib>=0.7.0->google-auth-oauthlib<0.5,>=0.4.1->tensorboard<2.10,>=2.9->tensorflow) (3.2.2)\n",
            "Requirement already satisfied: pyparsing!=3.0.5,>=2.0.2 in /usr/local/lib/python3.8/dist-packages (from packaging->tensorflow) (3.0.9)\n"
          ]
        },
        {
          "output_type": "stream",
          "name": "stderr",
          "text": [
            "[nltk_data] Downloading package punkt to /root/nltk_data...\n",
            "[nltk_data]   Unzipping tokenizers/punkt.zip.\n"
          ]
        }
      ],
      "source": [
        "#Importing Library\n",
        "!pip install tensorflow\n",
        "import pandas as pd\n",
        "import numpy as np\n",
        "import nltk\n",
        "nltk.download('punkt')\n",
        "from nltk.stem.porter import PorterStemmer\n",
        "import tensorflow as tf\n",
        "from tensorflow.keras.preprocessing.text import one_hot\n",
        "from tensorflow.keras.preprocessing.sequence import pad_sequences\n",
        "from tensorflow.keras.models import Sequential\n",
        "from tensorflow.keras.layers import LSTM, Dropout, Dense, Embedding, Bidirectional\n",
        "from sklearn.metrics import classification_report\n",
        "from sklearn.model_selection import train_test_split"
      ]
    },
    {
      "cell_type": "code",
      "source": [
        "# Importing Data\n",
        "df_train = pd.read_csv(\"/content/F3_FineGrained_Fake_News_Detection_train.csv\")\n",
        "x_train = df_train[\"statement\"].values\n",
        "df_test = pd.read_csv(\"/content/F3_FineGrained_Fake_News_Detection_test.csv\")\n",
        "x_test = df_test[\"statement\"].values\n",
        "label_map={'mostly-true':4,'barely-true':2,'half-true':3,'false':1, 'true':5,'pants-fire':0}\n",
        "temp = []\n",
        "y_train = df_train['label'].values\n",
        "for i in range(len(y_train)):\n",
        "    if y_train[i] == \"false\":\n",
        "        temp.append([0,1,0,0,0,0])\n",
        "    elif y_train[i] == \"mostly-true\":\n",
        "        temp.append([0,0,0,0,1,0])\n",
        "    elif y_train[i] == \"barely-true\":\n",
        "        temp.append([0,0,1,0,0,0])\n",
        "    elif y_train[i] == \"true\":\n",
        "        temp.append([0,0,0,0,0,1])\n",
        "    elif y_train[i] == \"half-true\":\n",
        "        temp.append([0,0,0,1,0,0])\n",
        "    elif y_train[i] == \"pants-fire\":\n",
        "        temp.append([1,0,0,0,0,0])\n",
        "y_train = np.array(temp)"
      ],
      "metadata": {
        "id": "Mx3BcFpK28La"
      },
      "execution_count": 2,
      "outputs": []
    },
    {
      "cell_type": "code",
      "source": [
        "# Data Cleaning\n",
        "def lowercasing(statement):\n",
        "  s2 = []\n",
        "  for k in statement:\n",
        "    s2.append(k.lower())\n",
        "  \n",
        "  return s2\n",
        "\n",
        "def stemming(statement):\n",
        "  s2 = []\n",
        "  ps = nltk.stem.PorterStemmer()\n",
        "  for k in statement:\n",
        "    tokens = nltk.word_tokenize(k)\n",
        "    t2 = []\n",
        "    for word in tokens:\n",
        "      word = ps.stem(word)\n",
        "      t2.append(word)\n",
        "    t2 = \" \".join(t2)\n",
        "    s2.append(t2)\n",
        "  return s2\n",
        "\n",
        "x_train = lowercasing(x_train)\n",
        "x_train = stemming(x_train)\n",
        "x_test = lowercasing(x_test)\n",
        "x_test = stemming(x_test)"
      ],
      "metadata": {
        "id": "ho7jOK1r3bC_"
      },
      "execution_count": 3,
      "outputs": []
    },
    {
      "cell_type": "markdown",
      "source": [
        "# Vectorization"
      ],
      "metadata": {
        "id": "tn5OIBHr39Va"
      }
    },
    {
      "cell_type": "code",
      "source": [
        "# Hyperparameters\n",
        "VOCAB_SIZE = 1000\n",
        "SENT_LENGTH = 20\n",
        "VECTOR_SIZE = 40"
      ],
      "metadata": {
        "id": "yyeu9NHe3xUT"
      },
      "execution_count": 4,
      "outputs": []
    },
    {
      "cell_type": "code",
      "source": [
        "#Vectorizing Training Data\n",
        "one_hot_repr = [one_hot(words, VOCAB_SIZE) for words in df_train[\"statement\"]]\n",
        "embedded_docs_train1 = pad_sequences(one_hot_repr, padding='pre', maxlen=SENT_LENGTH)\n",
        "one_hot_repr = [one_hot(str(words), VOCAB_SIZE) for words in df_train[\"subject\"]]\n",
        "embedded_docs_train2 = pad_sequences(one_hot_repr, padding='pre', maxlen=SENT_LENGTH)\n",
        "one_hot_repr = [one_hot(str(words), VOCAB_SIZE) for words in df_train[\"speaker\"]]\n",
        "embedded_docs_train3 = pad_sequences(one_hot_repr, padding='pre', maxlen=SENT_LENGTH)\n",
        "one_hot_repr = [one_hot(str(words), VOCAB_SIZE) for words in df_train[\"party affiliation\"]]\n",
        "embedded_docs_train4 = pad_sequences(one_hot_repr, padding='pre', maxlen=SENT_LENGTH)\n",
        "embedded_docs = np.concatenate([embedded_docs_train1, embedded_docs_train2, embedded_docs_train3, embedded_docs_train4], axis=1)\n",
        "\n",
        "#Train Test Split\n",
        "embedded_docs_train, embedded_docs_val, y_train, y_val = train_test_split(embedded_docs, y_train, test_size=0.1, random_state=42)\n",
        "\n",
        "#Vectorizing Test Data\n",
        "one_hot_repr = [one_hot(words, VOCAB_SIZE) for words in df_test[\"statement\"]]\n",
        "embedded_docs_test1 = pad_sequences(one_hot_repr, padding='pre', maxlen=SENT_LENGTH)\n",
        "one_hot_repr = [one_hot(str(words), VOCAB_SIZE) for words in df_test[\"subject\"]]\n",
        "embedded_docs_test2 = pad_sequences(one_hot_repr, padding='pre', maxlen=SENT_LENGTH)\n",
        "one_hot_repr = [one_hot(str(words), VOCAB_SIZE) for words in df_test[\"speaker\"]]\n",
        "embedded_docs_test3 = pad_sequences(one_hot_repr, padding='pre', maxlen=SENT_LENGTH)\n",
        "one_hot_repr = [one_hot(str(words), VOCAB_SIZE) for words in df_test[\"party affiliation\"]]\n",
        "embedded_docs_test4 = pad_sequences(one_hot_repr, padding='pre', maxlen=SENT_LENGTH)\n",
        "embedded_docs_test = np.concatenate([embedded_docs_test1, embedded_docs_test2, embedded_docs_test3, embedded_docs_test4], axis=1)\n",
        "\n",
        "print(embedded_docs_train.shape, y_train.shape)\n",
        "print(embedded_docs_val.shape, y_val.shape)\n",
        "print(embedded_docs_test.shape,)"
      ],
      "metadata": {
        "colab": {
          "base_uri": "https://localhost:8080/"
        },
        "id": "AcYR-toW3_-f",
        "outputId": "e42fd87c-1cdf-4f6f-f870-7b77bed28eeb"
      },
      "execution_count": 5,
      "outputs": [
        {
          "output_type": "stream",
          "name": "stdout",
          "text": [
            "(6451, 80) (6451, 6)\n",
            "(717, 80) (717, 6)\n",
            "(3072, 80)\n"
          ]
        }
      ]
    },
    {
      "cell_type": "markdown",
      "source": [
        "# Model"
      ],
      "metadata": {
        "id": "WazrMzcQ43VU"
      }
    },
    {
      "cell_type": "code",
      "source": [
        "model = Sequential()\n",
        "model.add(Embedding(VOCAB_SIZE, VECTOR_SIZE, input_length=SENT_LENGTH*4))\n",
        "model.add(Dropout(0.2))\n",
        "model.add(Bidirectional(LSTM(100)))\n",
        "model.add(Dropout(0.2))\n",
        "model.add(Dense(6, activation='softmax'))\n",
        "model.summary()"
      ],
      "metadata": {
        "colab": {
          "base_uri": "https://localhost:8080/"
        },
        "id": "K2M0r2NG4DhS",
        "outputId": "8d12f9c7-cc35-41bd-a824-07c963c9358f"
      },
      "execution_count": 6,
      "outputs": [
        {
          "output_type": "stream",
          "name": "stdout",
          "text": [
            "Model: \"sequential\"\n",
            "_________________________________________________________________\n",
            " Layer (type)                Output Shape              Param #   \n",
            "=================================================================\n",
            " embedding (Embedding)       (None, 80, 40)            40000     \n",
            "                                                                 \n",
            " dropout (Dropout)           (None, 80, 40)            0         \n",
            "                                                                 \n",
            " bidirectional (Bidirectiona  (None, 200)              112800    \n",
            " l)                                                              \n",
            "                                                                 \n",
            " dropout_1 (Dropout)         (None, 200)               0         \n",
            "                                                                 \n",
            " dense (Dense)               (None, 6)                 1206      \n",
            "                                                                 \n",
            "=================================================================\n",
            "Total params: 154,006\n",
            "Trainable params: 154,006\n",
            "Non-trainable params: 0\n",
            "_________________________________________________________________\n"
          ]
        }
      ]
    },
    {
      "cell_type": "code",
      "source": [
        "model.compile(loss='categorical_crossentropy',optimizer='adam',metrics=['accuracy'])\n",
        "model.fit(embedded_docs_train, y_train, epochs=10, batch_size=64)"
      ],
      "metadata": {
        "colab": {
          "base_uri": "https://localhost:8080/"
        },
        "id": "lRqtEYRO476K",
        "outputId": "ec8b242d-56f5-4817-8456-3e94bde989ea"
      },
      "execution_count": 7,
      "outputs": [
        {
          "output_type": "stream",
          "name": "stdout",
          "text": [
            "Epoch 1/10\n",
            "101/101 [==============================] - 9s 19ms/step - loss: 1.7600 - accuracy: 0.2068\n",
            "Epoch 2/10\n",
            "101/101 [==============================] - 1s 15ms/step - loss: 1.7313 - accuracy: 0.2361\n",
            "Epoch 3/10\n",
            "101/101 [==============================] - 1s 13ms/step - loss: 1.6929 - accuracy: 0.2666\n",
            "Epoch 4/10\n",
            "101/101 [==============================] - 1s 12ms/step - loss: 1.6618 - accuracy: 0.2837\n",
            "Epoch 5/10\n",
            "101/101 [==============================] - 1s 13ms/step - loss: 1.6313 - accuracy: 0.3024\n",
            "Epoch 6/10\n",
            "101/101 [==============================] - 1s 12ms/step - loss: 1.5948 - accuracy: 0.3299\n",
            "Epoch 7/10\n",
            "101/101 [==============================] - 1s 13ms/step - loss: 1.5560 - accuracy: 0.3547\n",
            "Epoch 8/10\n",
            "101/101 [==============================] - 1s 13ms/step - loss: 1.5171 - accuracy: 0.3816\n",
            "Epoch 9/10\n",
            "101/101 [==============================] - 1s 12ms/step - loss: 1.4775 - accuracy: 0.3958\n",
            "Epoch 10/10\n",
            "101/101 [==============================] - 1s 13ms/step - loss: 1.4438 - accuracy: 0.4210\n"
          ]
        },
        {
          "output_type": "execute_result",
          "data": {
            "text/plain": [
              "<keras.callbacks.History at 0x7feb69539070>"
            ]
          },
          "metadata": {},
          "execution_count": 7
        }
      ]
    },
    {
      "cell_type": "markdown",
      "source": [
        "# Evaluation"
      ],
      "metadata": {
        "id": "H242AA4J5G5G"
      }
    },
    {
      "cell_type": "code",
      "source": [
        "y_pred = tf.argmax(model.predict(embedded_docs_val), axis=1).numpy()\n",
        "y_val = np.argmax(y_val, axis=1)\n",
        "print(classification_report(y_val, y_pred))"
      ],
      "metadata": {
        "colab": {
          "base_uri": "https://localhost:8080/"
        },
        "id": "2zBUSgjV5DXg",
        "outputId": "5daff48e-54d6-4120-e878-1b39860376c0"
      },
      "execution_count": 8,
      "outputs": [
        {
          "output_type": "stream",
          "name": "stdout",
          "text": [
            "23/23 [==============================] - 1s 6ms/step\n",
            "              precision    recall  f1-score   support\n",
            "\n",
            "           0       0.18      0.13      0.15        63\n",
            "           1       0.26      0.39      0.31       135\n",
            "           2       0.18      0.14      0.15       103\n",
            "           3       0.23      0.16      0.19       160\n",
            "           4       0.25      0.34      0.29       136\n",
            "           5       0.32      0.26      0.29       120\n",
            "\n",
            "    accuracy                           0.25       717\n",
            "   macro avg       0.24      0.23      0.23       717\n",
            "weighted avg       0.24      0.25      0.24       717\n",
            "\n"
          ]
        }
      ]
    },
    {
      "cell_type": "code",
      "source": [
        "y_test_pred = tf.argmax(model.predict(embedded_docs_test), axis=1).numpy()\n",
        "df_test[\"label\"] = y_test_pred\n",
        "final_res = df_test[['label', 'id']]\n",
        "final_res.head()"
      ],
      "metadata": {
        "colab": {
          "base_uri": "https://localhost:8080/",
          "height": 223
        },
        "id": "sIqws3MgG5rM",
        "outputId": "b6e791a7-f126-4085-e77b-58a5f59e8080"
      },
      "execution_count": 9,
      "outputs": [
        {
          "output_type": "stream",
          "name": "stdout",
          "text": [
            "96/96 [==============================] - 1s 8ms/step\n"
          ]
        },
        {
          "output_type": "execute_result",
          "data": {
            "text/plain": [
              "   label  id\n",
              "0      1   0\n",
              "1      3   1\n",
              "2      4   2\n",
              "3      4   3\n",
              "4      5   4"
            ],
            "text/html": [
              "\n",
              "  <div id=\"df-198b1108-66b7-4c6f-af1a-6103baf7b12b\">\n",
              "    <div class=\"colab-df-container\">\n",
              "      <div>\n",
              "<style scoped>\n",
              "    .dataframe tbody tr th:only-of-type {\n",
              "        vertical-align: middle;\n",
              "    }\n",
              "\n",
              "    .dataframe tbody tr th {\n",
              "        vertical-align: top;\n",
              "    }\n",
              "\n",
              "    .dataframe thead th {\n",
              "        text-align: right;\n",
              "    }\n",
              "</style>\n",
              "<table border=\"1\" class=\"dataframe\">\n",
              "  <thead>\n",
              "    <tr style=\"text-align: right;\">\n",
              "      <th></th>\n",
              "      <th>label</th>\n",
              "      <th>id</th>\n",
              "    </tr>\n",
              "  </thead>\n",
              "  <tbody>\n",
              "    <tr>\n",
              "      <th>0</th>\n",
              "      <td>1</td>\n",
              "      <td>0</td>\n",
              "    </tr>\n",
              "    <tr>\n",
              "      <th>1</th>\n",
              "      <td>3</td>\n",
              "      <td>1</td>\n",
              "    </tr>\n",
              "    <tr>\n",
              "      <th>2</th>\n",
              "      <td>4</td>\n",
              "      <td>2</td>\n",
              "    </tr>\n",
              "    <tr>\n",
              "      <th>3</th>\n",
              "      <td>4</td>\n",
              "      <td>3</td>\n",
              "    </tr>\n",
              "    <tr>\n",
              "      <th>4</th>\n",
              "      <td>5</td>\n",
              "      <td>4</td>\n",
              "    </tr>\n",
              "  </tbody>\n",
              "</table>\n",
              "</div>\n",
              "      <button class=\"colab-df-convert\" onclick=\"convertToInteractive('df-198b1108-66b7-4c6f-af1a-6103baf7b12b')\"\n",
              "              title=\"Convert this dataframe to an interactive table.\"\n",
              "              style=\"display:none;\">\n",
              "        \n",
              "  <svg xmlns=\"http://www.w3.org/2000/svg\" height=\"24px\"viewBox=\"0 0 24 24\"\n",
              "       width=\"24px\">\n",
              "    <path d=\"M0 0h24v24H0V0z\" fill=\"none\"/>\n",
              "    <path d=\"M18.56 5.44l.94 2.06.94-2.06 2.06-.94-2.06-.94-.94-2.06-.94 2.06-2.06.94zm-11 1L8.5 8.5l.94-2.06 2.06-.94-2.06-.94L8.5 2.5l-.94 2.06-2.06.94zm10 10l.94 2.06.94-2.06 2.06-.94-2.06-.94-.94-2.06-.94 2.06-2.06.94z\"/><path d=\"M17.41 7.96l-1.37-1.37c-.4-.4-.92-.59-1.43-.59-.52 0-1.04.2-1.43.59L10.3 9.45l-7.72 7.72c-.78.78-.78 2.05 0 2.83L4 21.41c.39.39.9.59 1.41.59.51 0 1.02-.2 1.41-.59l7.78-7.78 2.81-2.81c.8-.78.8-2.07 0-2.86zM5.41 20L4 18.59l7.72-7.72 1.47 1.35L5.41 20z\"/>\n",
              "  </svg>\n",
              "      </button>\n",
              "      \n",
              "  <style>\n",
              "    .colab-df-container {\n",
              "      display:flex;\n",
              "      flex-wrap:wrap;\n",
              "      gap: 12px;\n",
              "    }\n",
              "\n",
              "    .colab-df-convert {\n",
              "      background-color: #E8F0FE;\n",
              "      border: none;\n",
              "      border-radius: 50%;\n",
              "      cursor: pointer;\n",
              "      display: none;\n",
              "      fill: #1967D2;\n",
              "      height: 32px;\n",
              "      padding: 0 0 0 0;\n",
              "      width: 32px;\n",
              "    }\n",
              "\n",
              "    .colab-df-convert:hover {\n",
              "      background-color: #E2EBFA;\n",
              "      box-shadow: 0px 1px 2px rgba(60, 64, 67, 0.3), 0px 1px 3px 1px rgba(60, 64, 67, 0.15);\n",
              "      fill: #174EA6;\n",
              "    }\n",
              "\n",
              "    [theme=dark] .colab-df-convert {\n",
              "      background-color: #3B4455;\n",
              "      fill: #D2E3FC;\n",
              "    }\n",
              "\n",
              "    [theme=dark] .colab-df-convert:hover {\n",
              "      background-color: #434B5C;\n",
              "      box-shadow: 0px 1px 3px 1px rgba(0, 0, 0, 0.15);\n",
              "      filter: drop-shadow(0px 1px 2px rgba(0, 0, 0, 0.3));\n",
              "      fill: #FFFFFF;\n",
              "    }\n",
              "  </style>\n",
              "\n",
              "      <script>\n",
              "        const buttonEl =\n",
              "          document.querySelector('#df-198b1108-66b7-4c6f-af1a-6103baf7b12b button.colab-df-convert');\n",
              "        buttonEl.style.display =\n",
              "          google.colab.kernel.accessAllowed ? 'block' : 'none';\n",
              "\n",
              "        async function convertToInteractive(key) {\n",
              "          const element = document.querySelector('#df-198b1108-66b7-4c6f-af1a-6103baf7b12b');\n",
              "          const dataTable =\n",
              "            await google.colab.kernel.invokeFunction('convertToInteractive',\n",
              "                                                     [key], {});\n",
              "          if (!dataTable) return;\n",
              "\n",
              "          const docLinkHtml = 'Like what you see? Visit the ' +\n",
              "            '<a target=\"_blank\" href=https://colab.research.google.com/notebooks/data_table.ipynb>data table notebook</a>'\n",
              "            + ' to learn more about interactive tables.';\n",
              "          element.innerHTML = '';\n",
              "          dataTable['output_type'] = 'display_data';\n",
              "          await google.colab.output.renderOutput(dataTable, element);\n",
              "          const docLink = document.createElement('div');\n",
              "          docLink.innerHTML = docLinkHtml;\n",
              "          element.appendChild(docLink);\n",
              "        }\n",
              "      </script>\n",
              "    </div>\n",
              "  </div>\n",
              "  "
            ]
          },
          "metadata": {},
          "execution_count": 9
        }
      ]
    },
    {
      "cell_type": "code",
      "source": [
        "final_res.to_csv(\"F3.csv\", index=False)"
      ],
      "metadata": {
        "id": "42vV4d7NG8fn"
      },
      "execution_count": 10,
      "outputs": []
    },
    {
      "cell_type": "code",
      "source": [],
      "metadata": {
        "id": "cKUoQ3mYHiSS"
      },
      "execution_count": null,
      "outputs": []
    }
  ]
}