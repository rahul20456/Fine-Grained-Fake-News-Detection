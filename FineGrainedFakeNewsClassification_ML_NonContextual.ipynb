{
  "nbformat": 4,
  "nbformat_minor": 0,
  "metadata": {
    "colab": {
      "provenance": []
    },
    "kernelspec": {
      "name": "python3",
      "display_name": "Python 3"
    },
    "language_info": {
      "name": "python"
    }
  },
  "cells": [
    {
      "cell_type": "markdown",
      "source": [
        "# Data Preprocessing"
      ],
      "metadata": {
        "id": "o3EgOu7eeLlv"
      }
    },
    {
      "cell_type": "code",
      "source": [
        "# Importing Libraries\n",
        "import pandas as pd\n",
        "import numpy as np\n",
        "import nltk\n",
        "nltk.download('punkt')\n",
        "from sklearn import tree\n",
        "# from sklearn.preprocessing import LabelEncoder\n",
        "from sklearn.feature_extraction.text import TfidfVectorizer\n",
        "from sklearn.model_selection import train_test_split\n",
        "from sklearn.neighbors import KNeighborsClassifier\n",
        "from sklearn.ensemble import RandomForestClassifier\n",
        "from sklearn.metrics import classification_report\n",
        "from sklearn.svm import SVC\n",
        "from sklearn.naive_bayes import GaussianNB"
      ],
      "metadata": {
        "id": "Gk0643YaeUz0",
        "colab": {
          "base_uri": "https://localhost:8080/"
        },
        "outputId": "da86f1db-31ef-485d-bde0-cf9b5be7137a"
      },
      "execution_count": 11,
      "outputs": [
        {
          "output_type": "stream",
          "name": "stderr",
          "text": [
            "[nltk_data] Downloading package punkt to /root/nltk_data...\n",
            "[nltk_data]   Package punkt is already up-to-date!\n"
          ]
        }
      ]
    },
    {
      "cell_type": "code",
      "source": [
        "df_train = pd.read_csv(\"/content/F3_FineGrained_Fake_News_Detection_train.csv\")\n",
        "df_test = pd.read_csv(\"/content/F3_FineGrained_Fake_News_Detection_test.csv\")\n",
        "x_train = df_train[\"statement\"].values\n",
        "x_test = df_test[\"statement\"].values\n",
        "label_map={'mostly-true':4,'barely-true':2,'half-true':3,'false':1, 'true':5,'pants-fire':0}\n",
        "y = df_train[\"label\"].values\n",
        "y_train = []\n",
        "for i in range(len(y)):\n",
        "    y_train.append(label_map[y[i]])\n",
        "y_train = np.array(y_train)\n",
        "# le = LabelEncoder()\n",
        "# y_train = le.fit_transform(df_train[\"label\"])\n",
        "print(x_train.shape, y_train.shape)"
      ],
      "metadata": {
        "colab": {
          "base_uri": "https://localhost:8080/"
        },
        "id": "zFfcAqH-exGF",
        "outputId": "861846d6-8dd1-4093-a029-14e9fd70064f"
      },
      "execution_count": 2,
      "outputs": [
        {
          "output_type": "stream",
          "name": "stdout",
          "text": [
            "(7168,) (7168,)\n"
          ]
        }
      ]
    },
    {
      "cell_type": "code",
      "source": [
        "def lowercasing(statement):\n",
        "  s2 = []\n",
        "  for k in statement:\n",
        "    s2.append(k.lower())\n",
        "  \n",
        "  return s2\n",
        "\n",
        "def stemming(statement):\n",
        "  s2 = []\n",
        "  ps = nltk.stem.PorterStemmer()\n",
        "  for k in statement:\n",
        "    tokens = nltk.word_tokenize(k)\n",
        "    t2 = []\n",
        "    for word in tokens:\n",
        "      word = ps.stem(word)\n",
        "      t2.append(word)\n",
        "    t2 = \" \".join(t2)\n",
        "    s2.append(t2)\n",
        "  return s2\n",
        "\n",
        "x_train = lowercasing(x_train)\n",
        "x_train = stemming(x_train)\n",
        "\n",
        "x_test = lowercasing(x_test)\n",
        "x_test = stemming(x_test)"
      ],
      "metadata": {
        "id": "0oharrFrnE2A"
      },
      "execution_count": 3,
      "outputs": []
    },
    {
      "cell_type": "markdown",
      "source": [
        "# Vectorization"
      ],
      "metadata": {
        "id": "HXWdalNCeK9U"
      }
    },
    {
      "cell_type": "code",
      "source": [
        "# TF-IDF\n",
        "vectorizer = TfidfVectorizer(max_features = 500)\n",
        "x_train = vectorizer.fit_transform(x_train).toarray()\n",
        "x_test = vectorizer.fit_transform(x_test).toarray()"
      ],
      "metadata": {
        "id": "M4r0WgYOeJOF"
      },
      "execution_count": 4,
      "outputs": []
    },
    {
      "cell_type": "code",
      "source": [
        "x_train, x_val, y_train, y_val = train_test_split(x_train, y_train, test_size=0.1, random_state=42)\n",
        "print(x_train.shape, y_train.shape)\n",
        "print(x_val.shape, y_val.shape)"
      ],
      "metadata": {
        "id": "04dBX8ABkQrt",
        "colab": {
          "base_uri": "https://localhost:8080/"
        },
        "outputId": "a74dfd65-c84d-411d-814a-5c684a89b9a9"
      },
      "execution_count": 5,
      "outputs": [
        {
          "output_type": "stream",
          "name": "stdout",
          "text": [
            "(6451, 500) (6451,)\n",
            "(717, 500) (717,)\n"
          ]
        }
      ]
    },
    {
      "cell_type": "markdown",
      "source": [
        "# Model"
      ],
      "metadata": {
        "id": "AIRzOKC-eSDD"
      }
    },
    {
      "cell_type": "code",
      "source": [
        "# KNN Model\n",
        "classifier = KNeighborsClassifier(n_neighbors=50, weights='distance')\n",
        "classifier.fit(x_train, y_train)\n",
        "y_pred = classifier.predict(x_val)\n",
        "print(classification_report(y_val, y_pred))"
      ],
      "metadata": {
        "id": "cJFHQgWFeTFP",
        "colab": {
          "base_uri": "https://localhost:8080/"
        },
        "outputId": "90c8dd49-d1bf-4eb7-8633-57457272f3f2"
      },
      "execution_count": 6,
      "outputs": [
        {
          "output_type": "stream",
          "name": "stdout",
          "text": [
            "              precision    recall  f1-score   support\n",
            "\n",
            "           0       0.00      0.00      0.00        63\n",
            "           1       0.24      0.39      0.30       135\n",
            "           2       0.27      0.15      0.19       103\n",
            "           3       0.23      0.27      0.25       160\n",
            "           4       0.28      0.32      0.30       136\n",
            "           5       0.25      0.23      0.24       120\n",
            "\n",
            "    accuracy                           0.25       717\n",
            "   macro avg       0.21      0.22      0.21       717\n",
            "weighted avg       0.23      0.25      0.24       717\n",
            "\n"
          ]
        }
      ]
    },
    {
      "cell_type": "code",
      "source": [
        "# dt model\n",
        "classifier = tree.DecisionTreeClassifier()\n",
        "classifier.fit(x_train, y_train)\n",
        "y_pred = classifier.predict(x_val)\n",
        "print(classification_report(y_val, y_pred))"
      ],
      "metadata": {
        "id": "ibG8gK4M7fVJ",
        "colab": {
          "base_uri": "https://localhost:8080/"
        },
        "outputId": "36953be7-bb2b-48ee-d198-c25146a327f9"
      },
      "execution_count": 9,
      "outputs": [
        {
          "output_type": "stream",
          "name": "stdout",
          "text": [
            "              precision    recall  f1-score   support\n",
            "\n",
            "           0       0.12      0.11      0.12        63\n",
            "           1       0.22      0.24      0.23       135\n",
            "           2       0.21      0.22      0.22       103\n",
            "           3       0.23      0.26      0.25       160\n",
            "           4       0.25      0.23      0.24       136\n",
            "           5       0.19      0.17      0.18       120\n",
            "\n",
            "    accuracy                           0.22       717\n",
            "   macro avg       0.21      0.20      0.20       717\n",
            "weighted avg       0.21      0.22      0.21       717\n",
            "\n"
          ]
        }
      ]
    },
    {
      "cell_type": "code",
      "source": [
        "# Random Forest\n",
        "classifier = RandomForestClassifier(n_estimators=200, criterion='entropy')\n",
        "classifier.fit(x_train, y_train)\n",
        "y_pred = classifier.predict(x_val)\n",
        "print(classification_report(y_val, y_pred))"
      ],
      "metadata": {
        "colab": {
          "base_uri": "https://localhost:8080/"
        },
        "id": "Ar2f003Mbarh",
        "outputId": "8d75c83c-2f8d-44b7-f671-aca54a31fa39"
      },
      "execution_count": 10,
      "outputs": [
        {
          "output_type": "stream",
          "name": "stdout",
          "text": [
            "              precision    recall  f1-score   support\n",
            "\n",
            "           0       0.50      0.08      0.14        63\n",
            "           1       0.23      0.36      0.28       135\n",
            "           2       0.18      0.13      0.15       103\n",
            "           3       0.20      0.28      0.23       160\n",
            "           4       0.23      0.21      0.22       136\n",
            "           5       0.24      0.16      0.19       120\n",
            "\n",
            "    accuracy                           0.22       717\n",
            "   macro avg       0.26      0.20      0.20       717\n",
            "weighted avg       0.24      0.22      0.21       717\n",
            "\n"
          ]
        }
      ]
    },
    {
      "cell_type": "code",
      "source": [
        "# SVM\n",
        "classifier = SVC(kernel='rbf')\n",
        "classifier.fit(x_train, y_train)\n",
        "y_pred = classifier.predict(x_val)\n",
        "print(classification_report(y_val, y_pred))"
      ],
      "metadata": {
        "colab": {
          "base_uri": "https://localhost:8080/"
        },
        "id": "Z4qWqX4BZsGz",
        "outputId": "f3acf683-8aa3-46b8-e239-02f29c51192a"
      },
      "execution_count": 14,
      "outputs": [
        {
          "output_type": "stream",
          "name": "stdout",
          "text": [
            "              precision    recall  f1-score   support\n",
            "\n",
            "           0       0.50      0.02      0.03        63\n",
            "           1       0.27      0.42      0.33       135\n",
            "           2       0.28      0.17      0.21       103\n",
            "           3       0.25      0.34      0.29       160\n",
            "           4       0.17      0.18      0.18       136\n",
            "           5       0.30      0.19      0.23       120\n",
            "\n",
            "    accuracy                           0.25       717\n",
            "   macro avg       0.30      0.22      0.21       717\n",
            "weighted avg       0.27      0.25      0.23       717\n",
            "\n"
          ]
        }
      ]
    },
    {
      "cell_type": "code",
      "source": [
        "# Linear Regression\n",
        "classifier = GaussianNB()\n",
        "classifier.fit(x_train, y_train)\n",
        "y_pred = classifier.predict(x_val)\n",
        "print(classification_report(y_val, y_pred))"
      ],
      "metadata": {
        "colab": {
          "base_uri": "https://localhost:8080/"
        },
        "id": "eX5zzoJ_Zu6t",
        "outputId": "a45035da-a9b6-4442-cf0b-aa86d762dfa1"
      },
      "execution_count": 13,
      "outputs": [
        {
          "output_type": "stream",
          "name": "stdout",
          "text": [
            "              precision    recall  f1-score   support\n",
            "\n",
            "           0       0.11      0.71      0.18        63\n",
            "           1       0.21      0.05      0.08       135\n",
            "           2       0.25      0.13      0.17       103\n",
            "           3       0.34      0.15      0.21       160\n",
            "           4       0.25      0.14      0.18       136\n",
            "           5       0.21      0.11      0.14       120\n",
            "\n",
            "    accuracy                           0.17       717\n",
            "   macro avg       0.23      0.22      0.16       717\n",
            "weighted avg       0.24      0.17      0.16       717\n",
            "\n"
          ]
        }
      ]
    },
    {
      "cell_type": "code",
      "source": [
        "y_test_pred = classifier.predict(x_test)\n",
        "y_test_pred"
      ],
      "metadata": {
        "colab": {
          "base_uri": "https://localhost:8080/"
        },
        "id": "BeqXkrNAsH3Z",
        "outputId": "95014250-e7aa-4aee-ee4c-c726654f36c6"
      },
      "execution_count": null,
      "outputs": [
        {
          "output_type": "execute_result",
          "data": {
            "text/plain": [
              "array([1, 3, 4, ..., 1, 3, 3])"
            ]
          },
          "metadata": {},
          "execution_count": 106
        }
      ]
    },
    {
      "cell_type": "code",
      "source": [
        "df_test[\"label\"] = y_test_pred\n",
        "final_res = df_test[['label', 'id']]\n",
        "final_res.head()"
      ],
      "metadata": {
        "colab": {
          "base_uri": "https://localhost:8080/",
          "height": 206
        },
        "id": "O_yKgrc8tN0I",
        "outputId": "2013c2a0-d060-4f20-b616-23b429c52e80"
      },
      "execution_count": null,
      "outputs": [
        {
          "output_type": "execute_result",
          "data": {
            "text/plain": [
              "   label  id\n",
              "0      1   0\n",
              "1      3   1\n",
              "2      4   2\n",
              "3      3   3\n",
              "4      2   4"
            ],
            "text/html": [
              "\n",
              "  <div id=\"df-82c32b40-81e2-4a94-941b-ec1a27bc27d4\">\n",
              "    <div class=\"colab-df-container\">\n",
              "      <div>\n",
              "<style scoped>\n",
              "    .dataframe tbody tr th:only-of-type {\n",
              "        vertical-align: middle;\n",
              "    }\n",
              "\n",
              "    .dataframe tbody tr th {\n",
              "        vertical-align: top;\n",
              "    }\n",
              "\n",
              "    .dataframe thead th {\n",
              "        text-align: right;\n",
              "    }\n",
              "</style>\n",
              "<table border=\"1\" class=\"dataframe\">\n",
              "  <thead>\n",
              "    <tr style=\"text-align: right;\">\n",
              "      <th></th>\n",
              "      <th>label</th>\n",
              "      <th>id</th>\n",
              "    </tr>\n",
              "  </thead>\n",
              "  <tbody>\n",
              "    <tr>\n",
              "      <th>0</th>\n",
              "      <td>1</td>\n",
              "      <td>0</td>\n",
              "    </tr>\n",
              "    <tr>\n",
              "      <th>1</th>\n",
              "      <td>3</td>\n",
              "      <td>1</td>\n",
              "    </tr>\n",
              "    <tr>\n",
              "      <th>2</th>\n",
              "      <td>4</td>\n",
              "      <td>2</td>\n",
              "    </tr>\n",
              "    <tr>\n",
              "      <th>3</th>\n",
              "      <td>3</td>\n",
              "      <td>3</td>\n",
              "    </tr>\n",
              "    <tr>\n",
              "      <th>4</th>\n",
              "      <td>2</td>\n",
              "      <td>4</td>\n",
              "    </tr>\n",
              "  </tbody>\n",
              "</table>\n",
              "</div>\n",
              "      <button class=\"colab-df-convert\" onclick=\"convertToInteractive('df-82c32b40-81e2-4a94-941b-ec1a27bc27d4')\"\n",
              "              title=\"Convert this dataframe to an interactive table.\"\n",
              "              style=\"display:none;\">\n",
              "        \n",
              "  <svg xmlns=\"http://www.w3.org/2000/svg\" height=\"24px\"viewBox=\"0 0 24 24\"\n",
              "       width=\"24px\">\n",
              "    <path d=\"M0 0h24v24H0V0z\" fill=\"none\"/>\n",
              "    <path d=\"M18.56 5.44l.94 2.06.94-2.06 2.06-.94-2.06-.94-.94-2.06-.94 2.06-2.06.94zm-11 1L8.5 8.5l.94-2.06 2.06-.94-2.06-.94L8.5 2.5l-.94 2.06-2.06.94zm10 10l.94 2.06.94-2.06 2.06-.94-2.06-.94-.94-2.06-.94 2.06-2.06.94z\"/><path d=\"M17.41 7.96l-1.37-1.37c-.4-.4-.92-.59-1.43-.59-.52 0-1.04.2-1.43.59L10.3 9.45l-7.72 7.72c-.78.78-.78 2.05 0 2.83L4 21.41c.39.39.9.59 1.41.59.51 0 1.02-.2 1.41-.59l7.78-7.78 2.81-2.81c.8-.78.8-2.07 0-2.86zM5.41 20L4 18.59l7.72-7.72 1.47 1.35L5.41 20z\"/>\n",
              "  </svg>\n",
              "      </button>\n",
              "      \n",
              "  <style>\n",
              "    .colab-df-container {\n",
              "      display:flex;\n",
              "      flex-wrap:wrap;\n",
              "      gap: 12px;\n",
              "    }\n",
              "\n",
              "    .colab-df-convert {\n",
              "      background-color: #E8F0FE;\n",
              "      border: none;\n",
              "      border-radius: 50%;\n",
              "      cursor: pointer;\n",
              "      display: none;\n",
              "      fill: #1967D2;\n",
              "      height: 32px;\n",
              "      padding: 0 0 0 0;\n",
              "      width: 32px;\n",
              "    }\n",
              "\n",
              "    .colab-df-convert:hover {\n",
              "      background-color: #E2EBFA;\n",
              "      box-shadow: 0px 1px 2px rgba(60, 64, 67, 0.3), 0px 1px 3px 1px rgba(60, 64, 67, 0.15);\n",
              "      fill: #174EA6;\n",
              "    }\n",
              "\n",
              "    [theme=dark] .colab-df-convert {\n",
              "      background-color: #3B4455;\n",
              "      fill: #D2E3FC;\n",
              "    }\n",
              "\n",
              "    [theme=dark] .colab-df-convert:hover {\n",
              "      background-color: #434B5C;\n",
              "      box-shadow: 0px 1px 3px 1px rgba(0, 0, 0, 0.15);\n",
              "      filter: drop-shadow(0px 1px 2px rgba(0, 0, 0, 0.3));\n",
              "      fill: #FFFFFF;\n",
              "    }\n",
              "  </style>\n",
              "\n",
              "      <script>\n",
              "        const buttonEl =\n",
              "          document.querySelector('#df-82c32b40-81e2-4a94-941b-ec1a27bc27d4 button.colab-df-convert');\n",
              "        buttonEl.style.display =\n",
              "          google.colab.kernel.accessAllowed ? 'block' : 'none';\n",
              "\n",
              "        async function convertToInteractive(key) {\n",
              "          const element = document.querySelector('#df-82c32b40-81e2-4a94-941b-ec1a27bc27d4');\n",
              "          const dataTable =\n",
              "            await google.colab.kernel.invokeFunction('convertToInteractive',\n",
              "                                                     [key], {});\n",
              "          if (!dataTable) return;\n",
              "\n",
              "          const docLinkHtml = 'Like what you see? Visit the ' +\n",
              "            '<a target=\"_blank\" href=https://colab.research.google.com/notebooks/data_table.ipynb>data table notebook</a>'\n",
              "            + ' to learn more about interactive tables.';\n",
              "          element.innerHTML = '';\n",
              "          dataTable['output_type'] = 'display_data';\n",
              "          await google.colab.output.renderOutput(dataTable, element);\n",
              "          const docLink = document.createElement('div');\n",
              "          docLink.innerHTML = docLinkHtml;\n",
              "          element.appendChild(docLink);\n",
              "        }\n",
              "      </script>\n",
              "    </div>\n",
              "  </div>\n",
              "  "
            ]
          },
          "metadata": {},
          "execution_count": 107
        }
      ]
    },
    {
      "cell_type": "code",
      "source": [
        "final_res.to_csv(\"F3.csv\", index=False)"
      ],
      "metadata": {
        "id": "fZQFztcrvKsT"
      },
      "execution_count": null,
      "outputs": []
    },
    {
      "cell_type": "code",
      "source": [],
      "metadata": {
        "id": "8rt8UhJGzEXR"
      },
      "execution_count": null,
      "outputs": []
    }
  ]
}